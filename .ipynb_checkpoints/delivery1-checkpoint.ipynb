{
 "cells": [
  {
   "cell_type": "markdown",
   "metadata": {},
   "source": [
    "1. Check the dimensions of the dataset (number of rows and columns).g"
   ]
  },
  {
   "cell_type": "code",
   "execution_count": 1,
   "metadata": {},
   "outputs": [],
   "source": [
    "# For det meste chat hihi\n",
    "\n",
    "import pandas as pd\n",
    "import json\n",
    "\n",
    "# Read the JSON file\n",
    "with open(\"metadata.json\", \"r\") as f:\n",
    "    data = json.load(f)\n",
    "\n",
    "# Flatten the JSON data\n",
    "flattened_data = []\n",
    "\n",
    "def flatten_json(data, prefix=''):\n",
    "    if isinstance(data, dict):\n",
    "        for key, value in data.items():\n",
    "            flatten_json(value, prefix + key + '_')\n",
    "    elif isinstance(data, list):\n",
    "        for i, item in enumerate(data):\n",
    "            flatten_json(item, prefix + str(i) + '_')\n",
    "    else:\n",
    "        flattened_data.append((prefix[:-1], data))\n",
    "\n",
    "flatten_json(data)\n",
    "\n",
    "# Convert to DataFrame\n",
    "df = pd.DataFrame(flattened_data, columns=['Column', 'Value'])\n",
    "\n",
    "# Save DataFrame to CSV\n",
    "df.to_csv(\"output.csv\", index=False)\n"
   ]
  },
  {
   "cell_type": "code",
   "execution_count": 2,
   "metadata": {},
   "outputs": [
    {
     "data": {
      "text/html": [
       "<div>\n",
       "<style scoped>\n",
       "    .dataframe tbody tr th:only-of-type {\n",
       "        vertical-align: middle;\n",
       "    }\n",
       "\n",
       "    .dataframe tbody tr th {\n",
       "        vertical-align: top;\n",
       "    }\n",
       "\n",
       "    .dataframe thead th {\n",
       "        text-align: right;\n",
       "    }\n",
       "</style>\n",
       "<table border=\"1\" class=\"dataframe\">\n",
       "  <thead>\n",
       "    <tr style=\"text-align: right;\">\n",
       "      <th></th>\n",
       "      <th>Column</th>\n",
       "      <th>Value</th>\n",
       "    </tr>\n",
       "  </thead>\n",
       "  <tbody>\n",
       "    <tr>\n",
       "      <th>0</th>\n",
       "      <td>@context_@language</td>\n",
       "      <td>en</td>\n",
       "    </tr>\n",
       "    <tr>\n",
       "      <th>1</th>\n",
       "      <td>@context_@vocab</td>\n",
       "      <td>https://schema.org/</td>\n",
       "    </tr>\n",
       "    <tr>\n",
       "      <th>2</th>\n",
       "      <td>@context_column</td>\n",
       "      <td>ml:column</td>\n",
       "    </tr>\n",
       "    <tr>\n",
       "      <th>3</th>\n",
       "      <td>@context_extract</td>\n",
       "      <td>ml:extract</td>\n",
       "    </tr>\n",
       "    <tr>\n",
       "      <th>4</th>\n",
       "      <td>@context_field</td>\n",
       "      <td>ml:field</td>\n",
       "    </tr>\n",
       "    <tr>\n",
       "      <th>...</th>\n",
       "      <td>...</td>\n",
       "      <td>...</td>\n",
       "    </tr>\n",
       "    <tr>\n",
       "      <th>117</th>\n",
       "      <td>recordSet_0_name</td>\n",
       "      <td>heart.csv_records</td>\n",
       "    </tr>\n",
       "    <tr>\n",
       "      <th>118</th>\n",
       "      <td>recordSet_0_description</td>\n",
       "      <td>The data contains 918 observations with 12 att...</td>\n",
       "    </tr>\n",
       "    <tr>\n",
       "      <th>119</th>\n",
       "      <td>@type</td>\n",
       "      <td>sc:Dataset</td>\n",
       "    </tr>\n",
       "    <tr>\n",
       "      <th>120</th>\n",
       "      <td>name</td>\n",
       "      <td>Heart-Failure-Prediction-Dataset</td>\n",
       "    </tr>\n",
       "    <tr>\n",
       "      <th>121</th>\n",
       "      <td>description</td>\n",
       "      <td>11 clinical features for predicting heart dise...</td>\n",
       "    </tr>\n",
       "  </tbody>\n",
       "</table>\n",
       "<p>122 rows × 2 columns</p>\n",
       "</div>"
      ],
      "text/plain": [
       "                      Column  \\\n",
       "0         @context_@language   \n",
       "1            @context_@vocab   \n",
       "2            @context_column   \n",
       "3           @context_extract   \n",
       "4             @context_field   \n",
       "..                       ...   \n",
       "117         recordSet_0_name   \n",
       "118  recordSet_0_description   \n",
       "119                    @type   \n",
       "120                     name   \n",
       "121              description   \n",
       "\n",
       "                                                 Value  \n",
       "0                                                   en  \n",
       "1                                  https://schema.org/  \n",
       "2                                            ml:column  \n",
       "3                                           ml:extract  \n",
       "4                                             ml:field  \n",
       "..                                                 ...  \n",
       "117                                  heart.csv_records  \n",
       "118  The data contains 918 observations with 12 att...  \n",
       "119                                         sc:Dataset  \n",
       "120                   Heart-Failure-Prediction-Dataset  \n",
       "121  11 clinical features for predicting heart dise...  \n",
       "\n",
       "[122 rows x 2 columns]"
      ]
     },
     "execution_count": 2,
     "metadata": {},
     "output_type": "execute_result"
    }
   ],
   "source": [
    "df"
   ]
  },
  {
   "cell_type": "code",
   "execution_count": null,
   "metadata": {},
   "outputs": [],
   "source": [
    "# Read the CSV file into a DataFrame\n",
    "df= pd.read_csv(\"output.csv\")\n",
    "\n",
    "# Get the dimensions of the DataFrame\n",
    "num_rows, num_columns = df.shape\n",
    "\n",
    "# Print the number of rows (observations) and columns\n",
    "print(\"Number of rows (observations):\", num_rows)\n",
    "print(\"Number of columns:\", num_columns)\n"
   ]
  },
  {
   "cell_type": "markdown",
   "metadata": {},
   "source": [
    "2. Peek at the first few rows to understand the data structure\n",
    "==="
   ]
  },
  {
   "cell_type": "markdown",
   "metadata": {},
   "source": [
    "3. Examine the types of data present in each column (numerical, categorical, datetime,...). Verify that the data types assigned to each column align with the actual nature of the data. Convert data types if necessary."
   ]
  },
  {
   "cell_type": "markdown",
   "metadata": {},
   "source": [
    "4. Filter the data by removing variables that are not relevant for the analysis."
   ]
  },
  {
   "cell_type": "markdown",
   "metadata": {},
   "source": [
    "5. Univariate analysis: Summary statistics for numerical variables and frequency distribution for categorical ones. Create visualizations (histograms, box plots, bar plots, etc)."
   ]
  },
  {
   "cell_type": "markdown",
   "metadata": {},
   "source": [
    "6. Identify outliers and decide whether to remove, transform, or keep them.\n"
   ]
  },
  {
   "cell_type": "markdown",
   "metadata": {},
   "source": [
    "7. Identify variables that provide little to no information and remove them."
   ]
  },
  {
   "cell_type": "markdown",
   "metadata": {},
   "source": [
    "8. Bivariate analysis: Examine correlations and dependencies between variables to identify potential relationships. Create visualizations to explore these relationships. A particularly significant case involves assessing the relationship of each variable with the class/target variable you want to predict."
   ]
  },
  {
   "cell_type": "markdown",
   "metadata": {},
   "source": [
    "9. Create new features from existing ones if necessary (e.g., extracting date components, ratios between variables, etc.)."
   ]
  },
  {
   "cell_type": "markdown",
   "metadata": {},
   "source": [
    "10. Divide the dataset into training and test sets."
   ]
  },
  {
   "cell_type": "markdown",
   "metadata": {},
   "source": [
    "11. Scale numerical features to a similar range in order to improve model performance on some models."
   ]
  },
  {
   "cell_type": "markdown",
   "metadata": {},
   "source": [
    "12. Encode categorical variables."
   ]
  },
  {
   "cell_type": "markdown",
   "metadata": {},
   "source": [
    "13. Identify missing data and decide how to handle them (remove, impute)."
   ]
  }
 ],
 "metadata": {
  "kernelspec": {
   "display_name": "Python 3 (ipykernel)",
   "language": "python",
   "name": "python3"
  },
  "language_info": {
   "codemirror_mode": {
    "name": "ipython",
    "version": 3
   },
   "file_extension": ".py",
   "mimetype": "text/x-python",
   "name": "python",
   "nbconvert_exporter": "python",
   "pygments_lexer": "ipython3",
   "version": "3.10.8"
  }
 },
 "nbformat": 4,
 "nbformat_minor": 4
}
