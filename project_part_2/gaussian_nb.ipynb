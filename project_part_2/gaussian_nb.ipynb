{
 "cells": [
  {
   "cell_type": "markdown",
   "metadata": {},
   "source": [
    "# Gaussian Naive Bayes - Heart Disease Classification\n",
    "Part 2 of the course project in *Artificial intelligence applied to engineering* at ETSEIB, UPC, spring 2024. The team members contributing to the deliverable is \n",
    "- Lise Jakobsen\n",
    "- Julie Sørlie Lund\n",
    "- Magnus Ingnes Sagmo\n",
    "\n",
    "The dataset used in this deliverable can be retrieved from [Kaggle](https://www.kaggle.com/datasets/johnsmith88/heart-disease-dataset).\n",
    "\n",
    "## Data set review\n",
    "\n",
    "#### Target class\n",
    "The target class, `HeartDisease`, is a boolean class telling whether the patient has a heart disease. Subsequently, this is a classification problem.\n",
    "\n",
    "#### Features\n",
    "The data set has 11 features. Two of these, `ChestPainType` and `RestingECG`, are one-hot encoded. \n",
    "\n",
    "#### Preprocessing method\n",
    "Before applying GNB\n",
    "- zero values of `Cholesterol` are imputed using `sklearn.impute.KNNImputer`.\n",
    "- the data is split into train and test set using `sklearn.model_selection.train_test_split`.\n",
    "- the data is normalized using `sklearn.preprocessing.StandardScaler`.\n",
    "\n",
    "In addition, we will try to both keep and remove outliers to see what produces best predictions. \n",
    "\n",
    "## Performance metrics\n",
    "\n",
    "#### Recall\n",
    "In the case of detecting heart diseases it is crucial to minimize the number of false negatives (people with a heart disease going unnoticed). We will therefore focus on minimizing recall.\n",
    "\n",
    "#### F1-score\n",
    "By solely focusing on recall, we can end with a too high number of false positives (by choosing a model that classifies everything as heart disease). We will therefore also look at the F1-score, as it offers a balance between precision and recall. \n",
    "\n",
    "#### Precision-recall curve\n",
    "The precision-recall curve is a good way to visualize how well the model balances precision and recall. \n",
    "\n",
    "#### Confusion matrix\n",
    "A good way to look at the number of false positives is looking at the confusion matrix. This will allow us to simultaneously look at false negatives, true positives and true negatives. \n",
    "\n",
    "\n",
    "## Hyperparameters\n",
    "\n",
    "#### Var smoothing\n",
    "The `var_smoothing` hyperparameter is added to the variances of each feature to ensure that no variance is zero. It's a smoothing parameter to avoid numerical errors. \n"
   ]
  },
  {
   "cell_type": "markdown",
   "metadata": {},
   "source": [
    "### Load data\n",
    "\n",
    "We will split the data in training and test set, and only use the train data for the cross validation in the grid search. This will reduce the amount of data used to train the models and tuning hyperparameters, but will ensure no data leakage and help reduce overfitting of the model. "
   ]
  },
  {
   "cell_type": "code",
   "execution_count": 1,
   "metadata": {
    "metadata": {}
   },
   "outputs": [],
   "source": [
    "%load_ext autoreload\n",
    "%autoreload 2\n",
    "\n",
    "from preprocessor import Preprocessor\n",
    "from sklearn.naive_bayes import GaussianNB\n",
    "from sklearn.model_selection import GridSearchCV\n",
    "import matplotlib.pyplot as plt\n",
    "from sklearn.metrics import recall_score, f1_score, precision_recall_curve, auc, precision_score\n",
    "import numpy as np\n",
    "import pandas as pd\n",
    "from sklearn.model_selection import validation_curve"
   ]
  },
  {
   "cell_type": "code",
   "execution_count": 2,
   "metadata": {
    "metadata": {}
   },
   "outputs": [],
   "source": [
    "prep = Preprocessor()\n",
    "\n",
    "X_train, X_test, y_train, y_test = prep.get_data(test_size=0.25, impute_method='gdb', remove_outliers=True, scaling_method='standard')"
   ]
  },
  {
   "cell_type": "markdown",
   "metadata": {},
   "source": [
    "### Set up hyperparameters grid\n",
    "\n",
    "We will explore\n",
    "- `var_smoothing`: numbers spaced evenly on a log scale, from 0 to -9, generates 100 samples. "
   ]
  },
  {
   "cell_type": "code",
   "execution_count": 3,
   "metadata": {
    "metadata": {}
   },
   "outputs": [],
   "source": [
    "# Define the parameter grid\n",
    "param_grid = {\n",
    "    'var_smoothing': np.logspace(0,-9,num=100)\n",
    "}"
   ]
  },
  {
   "cell_type": "markdown",
   "metadata": {},
   "source": [
    "### Perform grid search\n",
    "\n",
    "As stated above, we will focus mainly on recall and F1-score for our model evaluation. For the grid search we will use F1-score as evaluation metric, because\n",
    "- using recall can cause an unacceptably poor precision.\n",
    "- F1-score also considers true positives.\n",
    "\n",
    "To narrow the number of combinations we will further evaluate, we retrieve the six best combinations from the grid search."
   ]
  },
  {
   "cell_type": "code",
   "execution_count": 4,
   "metadata": {
    "metadata": {}
   },
   "outputs": [
    {
     "data": {
      "text/html": [
       "<div>\n",
       "<style scoped>\n",
       "    .dataframe tbody tr th:only-of-type {\n",
       "        vertical-align: middle;\n",
       "    }\n",
       "\n",
       "    .dataframe tbody tr th {\n",
       "        vertical-align: top;\n",
       "    }\n",
       "\n",
       "    .dataframe thead th {\n",
       "        text-align: right;\n",
       "    }\n",
       "</style>\n",
       "<table border=\"1\" class=\"dataframe\">\n",
       "  <thead>\n",
       "    <tr style=\"text-align: right;\">\n",
       "      <th></th>\n",
       "      <th>param_var_smoothing</th>\n",
       "      <th>mean_test_score</th>\n",
       "      <th>std_test_score</th>\n",
       "    </tr>\n",
       "  </thead>\n",
       "  <tbody>\n",
       "    <tr>\n",
       "      <th>6</th>\n",
       "      <td>0.284804</td>\n",
       "      <td>0.848559</td>\n",
       "      <td>0.051137</td>\n",
       "    </tr>\n",
       "    <tr>\n",
       "      <th>14</th>\n",
       "      <td>0.053367</td>\n",
       "      <td>0.846910</td>\n",
       "      <td>0.050251</td>\n",
       "    </tr>\n",
       "    <tr>\n",
       "      <th>5</th>\n",
       "      <td>0.351119</td>\n",
       "      <td>0.846674</td>\n",
       "      <td>0.052753</td>\n",
       "    </tr>\n",
       "    <tr>\n",
       "      <th>3</th>\n",
       "      <td>0.53367</td>\n",
       "      <td>0.846617</td>\n",
       "      <td>0.054912</td>\n",
       "    </tr>\n",
       "    <tr>\n",
       "      <th>4</th>\n",
       "      <td>0.432876</td>\n",
       "      <td>0.846617</td>\n",
       "      <td>0.054912</td>\n",
       "    </tr>\n",
       "    <tr>\n",
       "      <th>16</th>\n",
       "      <td>0.035112</td>\n",
       "      <td>0.846392</td>\n",
       "      <td>0.052511</td>\n",
       "    </tr>\n",
       "  </tbody>\n",
       "</table>\n",
       "</div>"
      ],
      "text/plain": [
       "   param_var_smoothing  mean_test_score  std_test_score\n",
       "6             0.284804         0.848559        0.051137\n",
       "14            0.053367         0.846910        0.050251\n",
       "5             0.351119         0.846674        0.052753\n",
       "3              0.53367         0.846617        0.054912\n",
       "4             0.432876         0.846617        0.054912\n",
       "16            0.035112         0.846392        0.052511"
      ]
     },
     "execution_count": 4,
     "metadata": {},
     "output_type": "execute_result"
    }
   ],
   "source": [
    "# Define model\n",
    "gnb = GaussianNB()\n",
    "\n",
    "# Perform grid search\n",
    "grid_search = GridSearchCV(gnb, param_grid, cv=10, scoring='f1', return_train_score=True)\n",
    "grid_search.fit(X_train, y_train)\n",
    "\n",
    "# Extract the six best iterations, based on mean F1 score\n",
    "results = pd.DataFrame(grid_search.cv_results_)\n",
    "top_6 = results.nlargest(6, 'mean_test_score')  \n",
    "# Extract only the interesting columns from the DataFrame\n",
    "top_6 = top_6[['param_var_smoothing', 'mean_test_score', 'std_test_score']]\n",
    "\n",
    "top_6"
   ]
  },
  {
   "cell_type": "markdown",
   "metadata": {},
   "source": [
    "We observe that there are only slight differences in both the mean and the standard deviation."
   ]
  },
  {
   "cell_type": "markdown",
   "metadata": {},
   "source": [
    "### Evaluating top 6 \n",
    "We will continue by examining how these six top results perform on unseen data. We will look at \n",
    "- F1-score\n",
    "- Recall\n",
    "- Precision\n",
    "- Precision-Recall Area Under Curve"
   ]
  },
  {
   "cell_type": "code",
   "execution_count": 5,
   "metadata": {
    "metadata": {}
   },
   "outputs": [],
   "source": [
    "# Function to evaluate the model\n",
    "def evaluate_model(model, X_test, y_test):\n",
    "    # Make prediction\n",
    "    y_pred = model.predict(X_test)\n",
    "\n",
    "    # Retrieve scores\n",
    "    recall = recall_score(y_test, y_pred)\n",
    "    precision = precision_score(y_test, y_pred)\n",
    "    f1 = f1_score(y_test, y_pred)\n",
    "    precision_curve, recall_curve, _ = precision_recall_curve(y_test, model.predict_proba(X_test)[:, 1])\n",
    "    pr_auc = auc(recall_curve, precision_curve)\n",
    "\n",
    "    return recall, f1, precision, pr_auc"
   ]
  },
  {
   "cell_type": "code",
   "execution_count": 6,
   "metadata": {
    "metadata": {}
   },
   "outputs": [
    {
     "data": {
      "text/html": [
       "<div>\n",
       "<style scoped>\n",
       "    .dataframe tbody tr th:only-of-type {\n",
       "        vertical-align: middle;\n",
       "    }\n",
       "\n",
       "    .dataframe tbody tr th {\n",
       "        vertical-align: top;\n",
       "    }\n",
       "\n",
       "    .dataframe thead th {\n",
       "        text-align: right;\n",
       "    }\n",
       "</style>\n",
       "<table border=\"1\" class=\"dataframe\">\n",
       "  <thead>\n",
       "    <tr style=\"text-align: right;\">\n",
       "      <th></th>\n",
       "      <th>var_smoothing</th>\n",
       "      <th>Recall</th>\n",
       "      <th>F1-score</th>\n",
       "      <th>Precision</th>\n",
       "      <th>Precision-recall AUC</th>\n",
       "    </tr>\n",
       "  </thead>\n",
       "  <tbody>\n",
       "    <tr>\n",
       "      <th>5</th>\n",
       "      <td>0.035112</td>\n",
       "      <td>0.827</td>\n",
       "      <td>0.859</td>\n",
       "      <td>0.894</td>\n",
       "      <td>0.937</td>\n",
       "    </tr>\n",
       "    <tr>\n",
       "      <th>1</th>\n",
       "      <td>0.053367</td>\n",
       "      <td>0.835</td>\n",
       "      <td>0.864</td>\n",
       "      <td>0.895</td>\n",
       "      <td>0.937</td>\n",
       "    </tr>\n",
       "    <tr>\n",
       "      <th>0</th>\n",
       "      <td>0.284804</td>\n",
       "      <td>0.835</td>\n",
       "      <td>0.867</td>\n",
       "      <td>0.902</td>\n",
       "      <td>0.940</td>\n",
       "    </tr>\n",
       "    <tr>\n",
       "      <th>2</th>\n",
       "      <td>0.351119</td>\n",
       "      <td>0.842</td>\n",
       "      <td>0.872</td>\n",
       "      <td>0.903</td>\n",
       "      <td>0.941</td>\n",
       "    </tr>\n",
       "    <tr>\n",
       "      <th>4</th>\n",
       "      <td>0.432876</td>\n",
       "      <td>0.850</td>\n",
       "      <td>0.876</td>\n",
       "      <td>0.904</td>\n",
       "      <td>0.941</td>\n",
       "    </tr>\n",
       "    <tr>\n",
       "      <th>3</th>\n",
       "      <td>0.533670</td>\n",
       "      <td>0.857</td>\n",
       "      <td>0.877</td>\n",
       "      <td>0.898</td>\n",
       "      <td>0.942</td>\n",
       "    </tr>\n",
       "  </tbody>\n",
       "</table>\n",
       "</div>"
      ],
      "text/plain": [
       "   var_smoothing  Recall  F1-score  Precision  Precision-recall AUC\n",
       "5       0.035112   0.827     0.859      0.894                 0.937\n",
       "1       0.053367   0.835     0.864      0.895                 0.937\n",
       "0       0.284804   0.835     0.867      0.902                 0.940\n",
       "2       0.351119   0.842     0.872      0.903                 0.941\n",
       "4       0.432876   0.850     0.876      0.904                 0.941\n",
       "3       0.533670   0.857     0.877      0.898                 0.942"
      ]
     },
     "execution_count": 6,
     "metadata": {},
     "output_type": "execute_result"
    }
   ],
   "source": [
    "# DataFrame with evaluation metric for each of the top 6 models\n",
    "evaluation_results = pd.DataFrame(columns=['var_smoothing', 'Recall', 'F1-score', 'Precision', 'Precision-recall AUC'])\n",
    "\n",
    "# Iterate the top 6 parameter combinations\n",
    "for (index, row) in top_6.iterrows():\n",
    "\n",
    "    # Dict with params from the row\n",
    "    params = {\n",
    "        'var_smoothing': row['param_var_smoothing'],\n",
    "    }\n",
    "\n",
    "    # Fit the model with params\n",
    "    model = GaussianNB(var_smoothing=params['var_smoothing'\n",
    "                                            ])\n",
    "    model.fit(X_train, y_train)\n",
    "    \n",
    "    # Evaluate the model\n",
    "    recall, f1, precision, pr_auc = evaluate_model(model, X_test, y_test)\n",
    "\n",
    "    new_row = {\n",
    "        'var_smoothing': params['var_smoothing'],\n",
    "        'Recall': round(recall, 3), \n",
    "        'Precision': round(precision, 3), \n",
    "        'F1-score': round(f1, 3), \n",
    "        'Precision-recall AUC': round(pr_auc, 3)\n",
    "    }\n",
    "    evaluation_results.loc[len(evaluation_results)] = new_row\n",
    "\n",
    "evaluation_results = evaluation_results.sort_values(by=['Recall', 'F1-score'])\n",
    "evaluation_results"
   ]
  },
  {
   "cell_type": "markdown",
   "metadata": {},
   "source": [
    "From the results on the unseen data, we will further evaluate a model using `var_smoothing=0.432876`. This is due to the following considerations:\n",
    "- It has the highets precision (0.904), in comparison `var_smoothing`=0.533670 has a precision=0.898.\n",
    "- The F1-score for `var_smoothing` = 0.533670 is 0.877, which is slightly higher than the 0.876 for 0.432876. However, this difference is marginal (0.001) and might not be significant enough to warrant choosing the higher smoothing value if other metrics are more favorable. \n",
    "  "
   ]
  },
  {
   "cell_type": "markdown",
   "metadata": {},
   "source": [
    "### Bias and variance\n",
    "\n",
    "Next, we examine the model performance in the context of bias and variance by plotting a validation curve for the `var_smoothing` hyperparameter. "
   ]
  },
  {
   "cell_type": "code",
   "execution_count": 7,
   "metadata": {
    "metadata": {}
   },
   "outputs": [
    {
     "data": {
      "image/png": "[encoded data removed]",
      "text/plain": [
       "<Figure size 800x600 with 1 Axes>"
      ]
     },
     "metadata": {},
     "output_type": "display_data"
    }
   ],
   "source": [
    "# Define parameter range for validation curve\n",
    "param_range = np.logspace(-9,0,30)\n",
    "\n",
    "# Calculate scores for validation curve\n",
    "train_scores, test_scores = validation_curve(\n",
    "    GaussianNB(),\n",
    "    X_train, y_train, param_name=\"var_smoothing\", \n",
    "    param_range=param_range,\n",
    "    cv=5, scoring=\"recall\", n_jobs=-1)\n",
    "\n",
    "# Calculate mean and standard deviation for train and test scores\n",
    "train_mean = np.mean(train_scores, axis=1)\n",
    "train_std = np.std(train_scores, axis=1)\n",
    "test_mean = np.mean(test_scores, axis=1)\n",
    "test_std = np.std(test_scores, axis=1)\n",
    "\n",
    "# Plot the validation curve\n",
    "plt.figure(figsize=(8, 6))\n",
    "plt.plot(param_range, train_mean, label=\"Training score\", color=\"r\")\n",
    "plt.plot(param_range, test_mean, label=\"Cross-validation score\", color=\"g\")\n",
    "\n",
    "plt.fill_between(param_range, train_mean - train_std, train_mean + train_std, color=\"r\", alpha=0.1)\n",
    "plt.fill_between(param_range, test_mean - test_std, test_mean + test_std, color=\"g\", alpha=0.1)\n",
    "\n",
    "plt.xscale('log')\n",
    "plt.title(\"Validation Curve for Gaussian Naive Bayes\")\n",
    "plt.xlabel(\"var_smoothing\")\n",
    "plt.ylabel(\"Recall\")\n",
    "plt.legend(loc=\"best\")\n",
    "plt.grid(True)\n",
    "plt.show()"
   ]
  },
  {
   "cell_type": "markdown",
   "metadata": {},
   "source": [
    "\n",
    "- At very low values (close to 10^-9), the model has very little smoothing applied to the variances of the features. This leads to a higher model complexity, capturing more details of the training data, which can increase the risk of overfitting. \n",
    "- Lower values of var_smoothing keep the model complexity higher, potentially capturing more noise in the training data, which could increase variance. However, in this case, both scores remain close and stable, indicating that overfitting is not a significant issue within the tested range.\n",
    "- As `var_smoothing` increases, the variance smoothing effect becomes more pronounced. This effectively reduces model complexity by smoothing out the variances more aggressively, which can help prevent overfitting but may lead to underfitting if the smoothing is too strong. \n",
    "- Higher values of var_smoothing lead to increased bias, as the model becomes too simple to capture the underlying patterns in the data. This is reflected in the slight decline in recall scores as var_smoothing increases."
   ]
  }
 ],
 "metadata": {
  "kernelspec": {
   "display_name": "venv",
   "language": "python",
   "name": "python3"
  },
  "language_info": {
   "codemirror_mode": {
    "name": "ipython",
    "version": 3
   },
   "file_extension": ".py",
   "mimetype": "text/x-python",
   "name": "python",
   "nbconvert_exporter": "python",
   "pygments_lexer": "ipython3",
   "version": "3.10.8"
  }
 },
 "nbformat": 4,
 "nbformat_minor": 2
}
