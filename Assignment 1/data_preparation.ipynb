{
 "cells": [
  {
   "cell_type": "markdown",
   "metadata": {},
   "source": [
    "# Data preparation\n",
    "\n",
    "This notebook shows the data preparation part of the assignment."
   ]
  },
  {
   "cell_type": "code",
   "execution_count": null,
   "metadata": {},
   "outputs": [],
   "source": [
    "import pandas as pd"
   ]
  },
  {
   "cell_type": "markdown",
   "metadata": {},
   "source": [
    "### Load data\n",
    "\n",
    "Initial peek at data shows that\n",
    "- The data set contains zero null-values. \n",
    "- All values have dtype `int64`.\n",
    "- The data ranges from 0-2 (`KidHome`) to 0-1727 (`MntFishMeatProdcts`)"
   ]
  },
  {
   "cell_type": "code",
   "execution_count": null,
   "metadata": {},
   "outputs": [],
   "source": [
    "# Load the heart dataset\n",
    "data = pd.read_csv(\"customer_data_large.csv\")\n",
    "\n",
    "# Check the dimensions of the dataset\n",
    "dimensions = data.shape\n",
    "\n",
    "print(f'The dataset has {dimensions[0]} rows and {dimensions[1]} colums.')\n",
    "\n",
    "data.info()\n",
    "data.describe()"
   ]
  },
  {
   "cell_type": "markdown",
   "metadata": {},
   "source": [
    "### Outliers\n",
    "\n",
    "To analyze outliers, we start by taking a look at box plots of features with potential outliers and by identifying the number of instances falling out of range. These include the 'amount'-features, and the 'purchases'- and 'visits'-features.\n",
    "\n",
    "We use the IQR method to calculate possible outliers."
   ]
  },
  {
   "cell_type": "code",
   "execution_count": null,
   "metadata": {},
   "outputs": [],
   "source": [
    "def IQR_bounds(dataframe, column, lower_quantile=0.25, upper_quantile=0.75, should_print=True):\n",
    "    Q1, Q3 = dataframe[column].quantile([lower_quantile, upper_quantile])\n",
    "\n",
    "    IQR = Q3 - Q1\n",
    "    lower_bound = Q1 - 1.5 * IQR\n",
    "    upper_bound = Q3 + 1.5 * IQR\n",
    "\n",
    "    low_outliers = (dataframe[column] < lower_bound).sum()\n",
    "    high_outliers = (dataframe[column] > upper_bound).sum()\n",
    "\n",
    "    if should_print:\n",
    "        print(f'{column} has {low_outliers} low outliers (below {lower_bound}) and {high_outliers} high outliers (above {upper_bound})')\n",
    "\n",
    "    return lower_bound, upper_bound"
   ]
  },
  {
   "cell_type": "code",
   "execution_count": null,
   "metadata": {},
   "outputs": [],
   "source": [
    "import seaborn as sns\n",
    "import matplotlib.pyplot as plt\n",
    "\n",
    "possible_outlier_columns = ['MntWines', 'MntFruits',\n",
    "       'MntSweetProducts', 'MntGoldProds', 'NumWebPurchases',\n",
    "       'NumStorePurchases', 'NumWebVisitsMonth', 'MntFishMeatProdcts']\n",
    "\n",
    "for feature in possible_outlier_columns:\n",
    "    IQR_bounds(data, feature, 0.25, 0.75)\n",
    "    plt.figure(figsize=(10, 4))\n",
    "    sns.boxplot(x=data[feature])\n",
    "    plt.title(f'Boxplot of {feature}')\n",
    "    plt.show()"
   ]
  },
  {
   "cell_type": "markdown",
   "metadata": {},
   "source": [
    "From the above visualizations we see that none of the features have any low outliers. We also see that\n",
    "- `MntWines`: Have 35 potential outliers. These may be important in a business perspective, as they can be a part of a customer segment (e.g. high-expenditure customers). As the majority of the instances are significantly lower than these high outliers, they may however skew standardization and make  the clustering poorer. We will try to both remove and keep them, and see what makes the clustering better.  \n",
    "\n",
    "- `MntFruits`: All possible outliers are evenly spread from Q3 to max. The max is however more than twice the Q3 limit, and including them will significanly skew the standardization. We will try to both include all, and to remove all instances above 2\\*Q3. By removing the instances above 2\\*Q3, we will still keep some of these potentially important values and not skew the standardization too much.\n",
    "\n",
    "-  `MntSweetProducts`: The majority of possible outliers increase gradually from Q3, whereas two customers have spent significantly more (more than 25%). The gradual increase from Q3 suggests that these may be an important customer segment, whereas the two lone outliers will be removed. \n",
    "\n",
    "- `MntGoldProds`: As with `MntSweetProducts`, the outliers increase gradually and intensively from Q3 to 250 while four are significantly higher. These four will be removed. \n",
    "\n",
    "- `NumWebPurchases`: Only 11 outliers. Most of them are close to the Q3, whereas four are significantly higher. We will try to both remove all (as there are few outliers) and to only remove the highest four. \n",
    "\n",
    "- `NumStorePurchases`: No outliers. \n",
    "\n",
    "- `NumWebVisitsMonth`: 148 potential high outliers. The values do however not vary greatly, and these high web visits may be of importance. due to the possible importance and the significant amount, they will all be kept. \n",
    "\n",
    "- `MntFishMeatProducts`: The majority of possible outliers increase gradually from Q3, whereas a few customers have spent significantly more. The significant amount of outliers close to Q3, and their potential value, forces ut to keep them, while the highest outliers will be removed. "
   ]
  },
  {
   "cell_type": "code",
   "execution_count": null,
   "metadata": {},
   "outputs": [],
   "source": [
    "def remove_outliers(df):\n",
    "    _, bound_fruit = IQR_bounds(df, 'MntFruits', should_print=False)\n",
    "    _, bound_web = IQR_bounds(df, 'NumWebPurchases', should_print=False)\n",
    "\n",
    "    outliers_wine = df[(df['MntWines'] > 1400)].index\n",
    "    print(f'Removing {len(outliers_wine)} wine outliers')\n",
    "    df = df.drop(outliers_wine)\n",
    "    \n",
    "    outliers_fruit = df[(df['MntFruits'] > bound_fruit * 2)].index\n",
    "    print(f'Removing {len(outliers_fruit)} fruit outliers')\n",
    "    df = df.drop(outliers_fruit)\n",
    "    \n",
    "    outliers_sweets = df[(df['MntSweetProducts'] > 200)].index\n",
    "    print(f'Removing {len(outliers_sweets)} sweets outliers')\n",
    "    df = df.drop(outliers_sweets)\n",
    "\n",
    "    outliers_gold = df[(df['MntGoldProds'] > 250)].index\n",
    "    print(f'Removing {len(outliers_gold)} gold outliers')\n",
    "    df = df.drop(outliers_gold)\n",
    "\n",
    "    outliers_web_1 = df[(df['NumWebPurchases'] > bound_web)].index\n",
    "    outliers_web_2 = df[(df['NumWebPurchases'] > 20)].index\n",
    "    # print(f'Removing {len(outliers_web_1)} web purchase outliers')\n",
    "    # df = df.drop(outliers_web_1)\n",
    "    print(f'Removing {len(outliers_web_2)} web purchase outliers')\n",
    "    df = df.drop(outliers_web_2)\n",
    "\n",
    "    outliers_fish_meat = df[(df['MntFishMeatProdcts'] > 1250)].index\n",
    "    print(f'Removing {len(outliers_fish_meat)} fish_meat outliers')\n",
    "    df = df.drop(outliers_fish_meat)\n",
    "\n",
    "    return df\n"
   ]
  },
  {
   "cell_type": "code",
   "execution_count": null,
   "metadata": {},
   "outputs": [],
   "source": [
    "data = remove_outliers(data)"
   ]
  },
  {
   "cell_type": "markdown",
   "metadata": {},
   "source": [
    "### Scale data \n",
    "\n",
    "Distance-based algorithms, that encompass K-means, PCA and t-SNE, are vulnerable to bias from unscaled data. To address this, we use `sklearn.preprocessing.MinMaxScaler`"
   ]
  },
  {
   "cell_type": "code",
   "execution_count": null,
   "metadata": {},
   "outputs": [],
   "source": [
    "from sklearn.preprocessing import MinMaxScaler\n",
    "\n",
    "scaler = MinMaxScaler()\n",
    "\n",
    "scaled_data = scaler.fit_transform(data)"
   ]
  }
 ],
 "metadata": {
  "kernelspec": {
   "display_name": "venv",
   "language": "python",
   "name": "python3"
  },
  "language_info": {
   "codemirror_mode": {
    "name": "ipython",
    "version": 3
   },
   "file_extension": ".py",
   "mimetype": "text/x-python",
   "name": "python",
   "nbconvert_exporter": "python",
   "pygments_lexer": "ipython3",
   "version": "3.10.8"
  }
 },
 "nbformat": 4,
 "nbformat_minor": 2
}
