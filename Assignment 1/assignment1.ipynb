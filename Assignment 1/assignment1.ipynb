{
 "cells": [
  {
   "cell_type": "code",
   "execution_count": null,
   "metadata": {},
   "outputs": [],
   "source": [
    "import pandas as pd\n",
    "import numpy as np\n"
   ]
  },
  {
   "cell_type": "markdown",
   "metadata": {},
   "source": [
    "# Preprocessing"
   ]
  },
  {
   "cell_type": "markdown",
   "metadata": {},
   "source": [
    "### 1. Load data\n",
    "\n",
    "There are no null-values or na values in the data. All values have dtype `int64`."
   ]
  },
  {
   "cell_type": "code",
   "execution_count": null,
   "metadata": {},
   "outputs": [],
   "source": [
    "# Load the heart dataset\n",
    "data = pd.read_csv(\"customer_data_large.csv\")\n",
    "\n",
    "# Check the dimensions of the dataset\n",
    "dataset_dimensions = data.shape\n",
    "\n",
    "print(\"The dataset has {} rows and {} colums.\".format(dataset_dimensions[0],dataset_dimensions[1]))\n",
    "\n",
    "print(f'The data has {data.isnull().sum().sum()} null values')\n",
    "print(f'The data has {data.isna().sum().sum()} na values')\n",
    "\n",
    "data.info()\n",
    "data.describe()"
   ]
  },
  {
   "cell_type": "markdown",
   "metadata": {},
   "source": [
    "### 2. Visualize data"
   ]
  },
  {
   "cell_type": "code",
   "execution_count": null,
   "metadata": {},
   "outputs": [],
   "source": [
    "import matplotlib.pyplot as plt\n",
    "import seaborn as sns\n",
    "\n",
    "def show_numerical_figures(df):\n",
    "    numerical_columns = df.select_dtypes(include=np.number).columns.tolist()\n",
    "    for col in numerical_columns:\n",
    "        plt.figure(figsize=(8, 4))\n",
    "        sns.histplot(df[col],  bins=30)\n",
    "        plt.title(f'Histogram of {col}')\n",
    "        plt.xlabel(col)\n",
    "        plt.ylabel('Frequency')\n",
    "        plt.show()\n",
    "\n",
    "\n",
    "show_numerical_figures(data)"
   ]
  },
  {
   "cell_type": "markdown",
   "metadata": {},
   "source": [
    "### 3. Aggregate new features\n",
    "\n",
    "For this unsupervised problem, there are a number of features one can extract by combining exisitng features."
   ]
  },
  {
   "cell_type": "code",
   "execution_count": null,
   "metadata": {},
   "outputs": [],
   "source": [
    "data['TotalSpend'] = data[['MntWines', 'MntFruits', 'MntSweetProducts', 'MntGoldProds', 'NumWebVisitsMonth']].sum(axis=1)\n",
    "\n",
    "data['AvgSpendPerPurchase'] = data['TotalSpend'] / (data['NumWebPurchases'] + data['NumStorePurchases'] + 1)\n",
    "\n",
    "data['TotalPurchases'] = data[['NumWebPurchases', 'NumStorePurchases']].sum(axis=1)\n",
    "\n",
    "data['WebToStorePurchaseRatio'] = data['NumWebPurchases'] / (data['NumStorePurchases'] + 1)  # Adding 1 to avoid division by zero\n",
    "\n",
    "data.describe()\n"
   ]
  },
  {
   "cell_type": "markdown",
   "metadata": {},
   "source": [
    "### 4. Check pairwise correlation\n",
    "\n",
    "# TODO"
   ]
  },
  {
   "cell_type": "code",
   "execution_count": null,
   "metadata": {},
   "outputs": [],
   "source": [
    "matrix = data.corr(method='pearson')\n",
    "\n",
    "# Don't check pairwise relevances twices\n",
    "checked_features= []\n",
    "count = 0\n",
    "threshold = 0.5\n",
    "\n",
    "relevance_dict = {}\n",
    "\n",
    "for col in data.columns.tolist():\n",
    "    checked_features.append(col)\n",
    "    for val in matrix[col].items():\n",
    "        current_col = val[0]\n",
    "        relevance = val[1]\n",
    "        if relevance > threshold and current_col not in checked_features:\n",
    "            if relevance in relevance_dict.keys():\n",
    "                relevance_dict[relevance].append((col, current_col))\n",
    "            else:\n",
    "                relevance_dict[relevance] = [(col, current_col)]\n",
    "\n",
    "if not relevance_dict:\n",
    "    print(f'No variables with significance above {threshold}')\n",
    "else:\n",
    "    sorted_relevances = sorted(relevance_dict.keys(), reverse=True)\n",
    "    for relevance in sorted_relevances:\n",
    "        relationships = relevance_dict[relevance]\n",
    "        for relationship in relationships:\n",
    "            print(f'{relationship[0]} and {relationship[1]} has relevance {relevance}')"
   ]
  },
  {
   "cell_type": "markdown",
   "metadata": {},
   "source": [
    "### 5. Split data in testing and training"
   ]
  },
  {
   "cell_type": "code",
   "execution_count": null,
   "metadata": {},
   "outputs": [],
   "source": [
    "from sklearn.model_selection import train_test_split\n",
    "\n",
    "train, test = train_test_split(data, test_size=0.25, random_state=42)\n",
    "\n",
    "print(type(test))"
   ]
  },
  {
   "cell_type": "markdown",
   "metadata": {},
   "source": [
    "### 6. Scale data\n",
    "In the dataset the scale of the features varies greatly from 0-3 in `Education` and 0-1727 in `MntFishMeatProdcts`. In order to use k-means and PCA wothout bias towards the higher-scale features, we apply standardizaton through `sklearn.StandardScaler`."
   ]
  },
  {
   "cell_type": "code",
   "execution_count": null,
   "metadata": {},
   "outputs": [],
   "source": [
    "from sklearn.preprocessing import StandardScaler\n",
    "\n",
    "scaler = StandardScaler()\n",
    "\n",
    "train_scaled = scaler.fit_transform(train)\n",
    "test_scaled = scaler.transform(test)"
   ]
  },
  {
   "cell_type": "markdown",
   "metadata": {},
   "source": [
    "# Clustering"
   ]
  },
  {
   "cell_type": "code",
   "execution_count": null,
   "metadata": {},
   "outputs": [],
   "source": [
    "from sklearn.cluster import KMeans\n",
    "from sklearn.metrics import silhouette_score, davies_bouldin_score\n",
    "import matplotlib.pyplot as plt"
   ]
  },
  {
   "cell_type": "markdown",
   "metadata": {},
   "source": [
    "### 1. K-Means on all features\n",
    "We start by applying k-means on all features."
   ]
  },
  {
   "cell_type": "code",
   "execution_count": null,
   "metadata": {},
   "outputs": [],
   "source": [
    "def elbow_method(df):\n",
    "    '''Plot change of inertia for different values of k, \n",
    "    to get a reasonable guess for optimal amount of clusters'''\n",
    "    inertias = {}\n",
    "    silhouettes = {}\n",
    "    db_scores = {}\n",
    "\n",
    "    for k in range(2, 15):\n",
    "        kmeans = KMeans(n_clusters=k, random_state=42).fit(df)\n",
    "        inertias[k] = kmeans.inertia_\n",
    "        \n",
    "        sil_score = silhouette_score(df, kmeans.labels_)\n",
    "        silhouettes[k] = sil_score\n",
    "\n",
    "        db_score = davies_bouldin_score(df, kmeans.labels_)\n",
    "        db_scores[k] = db_score\n",
    "\n",
    "    plt.figure()\n",
    "    plt.plot(list(inertias.keys()), list(inertias.values()))\n",
    "    plt.xlabel(\"Number of cluster\")\n",
    "    plt.ylabel(\"Inertias\")\n",
    "    plt.show()\n",
    "\n",
    "    plt.figure()\n",
    "    plt.plot(list(silhouettes.keys()), list(silhouettes.values()))\n",
    "    plt.xlabel(\"Number of cluster\")\n",
    "    plt.ylabel(\"Silhouttes\")\n",
    "    plt.show()\n",
    "\n",
    "    plt.figure()\n",
    "    plt.plot(list(db_scores.keys()), list(db_scores.values()))\n",
    "    plt.xlabel(\"Number of cluster\")\n",
    "    plt.ylabel(\"DB_scores\")\n",
    "    plt.show()\n"
   ]
  },
  {
   "cell_type": "code",
   "execution_count": null,
   "metadata": {},
   "outputs": [],
   "source": [
    "elbow_method(train_scaled)"
   ]
  },
  {
   "cell_type": "markdown",
   "metadata": {},
   "source": [
    "# TODO"
   ]
  },
  {
   "cell_type": "markdown",
   "metadata": {},
   "source": [
    "### Characerize the clusters"
   ]
  },
  {
   "cell_type": "code",
   "execution_count": null,
   "metadata": {},
   "outputs": [],
   "source": [
    "optimal_clusters = 8  # Assuming 5 is optimal from the elbow method\n",
    "kmeans = KMeans(n_clusters=optimal_clusters, random_state=42)\n",
    "clusters = kmeans.fit_predict(train_scaled)\n",
    "\n",
    "train = pd.DataFrame(scaler.inverse_transform(train_scaled), index=train.index, columns=train.columns)\n",
    "\n",
    "centroids = pd.DataFrame(scaler.inverse_transform(kmeans.cluster_centers_), columns=train.columns)"
   ]
  },
  {
   "cell_type": "code",
   "execution_count": null,
   "metadata": {},
   "outputs": [],
   "source": [
    "# Cluster centroids\n",
    "print(centroids)"
   ]
  },
  {
   "cell_type": "code",
   "execution_count": null,
   "metadata": {},
   "outputs": [],
   "source": [
    "# Add cluster labels to your original DataFrame\n",
    "train['Cluster'] = kmeans.labels_\n",
    "\n",
    "# Calculate mean for all numerical columns for each cluster\n",
    "cluster_profiles = train.groupby('Cluster').mean()\n",
    "\n",
    "# Display cluster profiles\n",
    "print(cluster_profiles)"
   ]
  },
  {
   "cell_type": "code",
   "execution_count": null,
   "metadata": {},
   "outputs": [],
   "source": [
    "import matplotlib.pyplot as plt\n",
    "import seaborn as sns\n",
    "\n",
    "# Example: Visualizing the distribution of a feature like 'TotalSpend' across clusters\n",
    "plt.figure(figsize=(10, 6))\n",
    "sns.boxplot(x='Cluster', y='TotalSpend', data=train)\n",
    "plt.title('Total Spend by Cluster')\n",
    "plt.show()"
   ]
  }
 ],
 "metadata": {
  "kernelspec": {
   "display_name": "venv",
   "language": "python",
   "name": "python3"
  },
  "language_info": {
   "codemirror_mode": {
    "name": "ipython",
    "version": 3
   },
   "file_extension": ".py",
   "mimetype": "text/x-python",
   "name": "python",
   "nbconvert_exporter": "python",
   "pygments_lexer": "ipython3",
   "version": "3.10.8"
  }
 },
 "nbformat": 4,
 "nbformat_minor": 2
}
